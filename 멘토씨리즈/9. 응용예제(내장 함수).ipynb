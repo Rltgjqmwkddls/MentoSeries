{
 "cells": [
  {
   "cell_type": "code",
   "execution_count": 4,
   "metadata": {
    "colab": {
     "base_uri": "https://localhost:8080/"
    },
    "executionInfo": {
     "elapsed": 341,
     "status": "ok",
     "timestamp": 1733228520169,
     "user": {
      "displayName": "황수환",
      "userId": "06046355532150937721"
     },
     "user_tz": -540
    },
    "id": "JEK57wqWY_a0",
    "outputId": "36781fda-7d95-49f2-b204-c102f8c2eb48"
   },
   "outputs": [
    {
     "name": "stdout",
     "output_type": "stream",
     "text": [
      "무지개의1번째 색은 red입니다.\n",
      "무지개의2번째 색은 orange입니다.\n",
      "무지개의3번째 색은 yellow입니다.\n",
      "무지개의4번째 색은 green입니다.\n",
      "무지개의5번째 색은 blue입니다.\n",
      "무지개의6번째 색은 navy입니다.\n",
      "무지개의7번째 색은 purple입니다.\n"
     ]
    }
   ],
   "source": [
    "# 무지개의 일곱 색깔을 저장하는 rainbow 리스트를 생성\n",
    "# enumerate(iterable, start=0)는 인덱스와 값을 동시에 추출 가능\n",
    "# iterable : 문자열, 리스트, 튜플에서 사용 가능\n",
    "# start : 인덱스 시작 값\n",
    "# enumerate는 (인덱스, 요소)의 형태의 튜플을 반환\n",
    "rainbow = ['red', 'orange', 'yellow', 'green', 'blue', 'navy', 'purple']\n",
    "\n",
    "# rainbow의 첫 번째 인덱스 값을 cnt에 넣고, 두 번째 요소 값을 i에 넣으며 반복\n",
    "for cnt , i in enumerate(rainbow, 1):\n",
    "  print(f'무지개의{cnt}번째 색은 {i}입니다.')"
   ]
  },
  {
   "cell_type": "code",
   "execution_count": 10,
   "metadata": {
    "colab": {
     "base_uri": "https://localhost:8080/"
    },
    "executionInfo": {
     "elapsed": 14679,
     "status": "ok",
     "timestamp": 1733229370652,
     "user": {
      "displayName": "황수환",
      "userId": "06046355532150937721"
     },
     "user_tz": -540
    },
    "id": "KeOBKwgKeHMX",
    "outputId": "5350e750-4387-4f59-9a95-e5221305f71b"
   },
   "outputs": [
    {
     "name": "stdout",
     "output_type": "stream",
     "text": [
      "[100, 90, 40, 32, 67, 59, 99]\n",
      "평균: 69\n",
      "본인은 4등급입니다.\n",
      "최대: 100\n",
      "최소: 32\n"
     ]
    }
   ],
   "source": [
    "# 어떤 학생의 점수를 입력받아 평균 점수, 최고 점수, 최저 점수를 구하는 성적 계산 프로그램 구현\n",
    "# 수능과목 기준(국어, 영어, 수학, 한국사, 과탐1, 과탐2, 제2외국어어)\n",
    "exam = []\n",
    "\n",
    "count = 0\n",
    "\n",
    "while len(exam) < 7:\n",
    "  score = int(input(f\"{len(exam)}번째 과목 점수 : \"))\n",
    "  \n",
    "  if score < 0: # 마이너스 점수 탈출\n",
    "    continue\n",
    "  exam.append(score)\n",
    "    \n",
    "print(exam)\n",
    "print(f'평균: {sum(exam) // len(exam)}')\n",
    "average = sum(exam) // len(exam)\n",
    "avg = (\n",
    "  '1등급' if average >= 90 else\n",
    "  '2등급' if average >= 80 else\n",
    "  '3등급' if average >= 70 else\n",
    "  '4등급' if average >= 60 else\n",
    "  '5등급' if average >= 50 else\n",
    "  '6등급' if average >= 40 else\n",
    "  '7등급' if average >= 30 else\n",
    "  '8등급' if average >= 20 else\n",
    "  '9등급'\n",
    ")\n",
    "print(f'본인은 {avg}입니다.')\n",
    "print(f'최대: {max(exam)}')\n",
    "print(f'최소: {min(exam)}')"
   ]
  }
 ],
 "metadata": {
  "colab": {
   "authorship_tag": "ABX9TyM1rgQmA/5zLSuRO/HMR0o5",
   "provenance": []
  },
  "kernelspec": {
   "display_name": "Python 3",
   "name": "python3"
  },
  "language_info": {
   "codemirror_mode": {
    "name": "ipython",
    "version": 3
   },
   "file_extension": ".py",
   "mimetype": "text/x-python",
   "name": "python",
   "nbconvert_exporter": "python",
   "pygments_lexer": "ipython3",
   "version": "3.10.11"
  }
 },
 "nbformat": 4,
 "nbformat_minor": 0
}
