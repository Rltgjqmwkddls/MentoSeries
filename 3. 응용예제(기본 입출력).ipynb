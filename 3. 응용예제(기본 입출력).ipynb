{
 "cells": [
  {
   "cell_type": "code",
   "execution_count": null,
   "metadata": {
    "colab": {
     "base_uri": "https://localhost:8080/"
    },
    "executionInfo": {
     "elapsed": 6701,
     "status": "ok",
     "timestamp": 1732702516903,
     "user": {
      "displayName": "황수환",
      "userId": "06046355532150937721"
     },
     "user_tz": -540
    },
    "id": "NWWj5Vy-8NTD",
    "outputId": "e8c360f7-25bd-4cf5-f2b2-915b5cc880f6"
   },
   "outputs": [
    {
     "name": "stdout",
     "output_type": "stream",
     "text": [
      "숫자를 입력하세요: 1.4\n",
      "숫자를 입력하세요: 1.5\n",
      "1.4+1.5의 합은 2.9입니다.\n"
     ]
    }
   ],
   "source": [
    "# 사용자로부터 2개의 실수를 입력받아 합계를 구하기\n",
    "first = float(input('숫자를 입력하세요: '))\n",
    "second = float(input('숫자를 입력하세요: '))\n",
    "sum = first + second\n",
    "print(f'{first}+{second}의 합은 {sum}입니다.')"
   ]
  },
  {
   "cell_type": "code",
   "execution_count": null,
   "metadata": {
    "colab": {
     "base_uri": "https://localhost:8080/"
    },
    "executionInfo": {
     "elapsed": 2201,
     "status": "ok",
     "timestamp": 1732705804488,
     "user": {
      "displayName": "황수환",
      "userId": "06046355532150937721"
     },
     "user_tz": -540
    },
    "id": "WKquHo5eHhpk",
    "outputId": "a467311e-265f-409e-f817-ef982867c5a3"
   },
   "outputs": [
    {
     "name": "stdout",
     "output_type": "stream",
     "text": [
      "1~12 사이의 월을 입력하세요 : 1\n",
      "해당 월은 31일 까지입니다.\n"
     ]
    }
   ],
   "source": [
    "# 사용자로부터 1에서 12 사이의 월을 입력받아 해당 월이 며칠까지 있는지 출력\n",
    "month = int(input('1~12 사이의 월을 입력하세요 : '))\n",
    "# 달은 1월달부터 시작이라 0번 인덱스 포함\n",
    "day = [0, 31, 28, 31, 30, 31, 30, 31, 31, 30, 31, 30, 31]\n",
    "\n",
    "print(f'해당 월은 {day[month]}일 까지입니다.')"
   ]
  },
  {
   "cell_type": "code",
   "execution_count": null,
   "metadata": {
    "colab": {
     "base_uri": "https://localhost:8080/"
    },
    "executionInfo": {
     "elapsed": 4316,
     "status": "ok",
     "timestamp": 1732704222015,
     "user": {
      "displayName": "황수환",
      "userId": "06046355532150937721"
     },
     "user_tz": -540
    },
    "id": "LPGpABmDMo0Q",
    "outputId": "d59e4433-df1d-459f-bc0c-9981394dfa4d"
   },
   "outputs": [
    {
     "name": "stdout",
     "output_type": "stream",
     "text": [
      "영어 단어를 입력하세요 : fly\n",
      "fly의 뜻: 날다\n"
     ]
    }
   ],
   "source": [
    "# 파이썬으로 영어사전을 구현하고자 한다 다음과 같은 딕셔너리를 생성하고 구현해보자\n",
    "eng = {\n",
    "    'flower': '꽃',\n",
    "    'fly': '날다',\n",
    "    'floor': '바닥'\n",
    "}\n",
    "# eng안에 있는 단어만 해당\n",
    "voca = input('영어 단어를 입력하세요 : ')\n",
    "print(f'{voca}의 뜻: {eng[voca]}')"
   ]
  },
  {
   "cell_type": "code",
   "execution_count": null,
   "metadata": {
    "colab": {
     "base_uri": "https://localhost:8080/"
    },
    "executionInfo": {
     "elapsed": 7548,
     "status": "ok",
     "timestamp": 1732706587552,
     "user": {
      "displayName": "황수환",
      "userId": "06046355532150937721"
     },
     "user_tz": -540
    },
    "id": "XyB_s1-4OChV",
    "outputId": "f8969bd9-4dde-4a59-9bbc-7a8889131c5f"
   },
   "outputs": [
    {
     "name": "stdout",
     "output_type": "stream",
     "text": [
      "원하는 장소를 입력하세요: 제주\n",
      "원하는 장소를 입력하세요: 제주\n",
      "원하는 장소를 입력하세요: 한라산\n",
      "{'제주', '한라산'}\n"
     ]
    }
   ],
   "source": [
    "# 원하는 장소를 입력받아 중복은 무시하고 저장\n",
    "p = set()\n",
    "# 들어가면서 중복값 제거\n",
    "place = input('원하는 장소를 입력하세요: ')\n",
    "p.add(place)\n",
    "\n",
    "place1 = input('원하는 장소를 입력하세요: ')\n",
    "p.add(place1)\n",
    "\n",
    "place2 = input('원하는 장소를 입력하세요: ')\n",
    "p.add(place2)\n",
    "\n",
    "print(p)"
   ]
  }
 ],
 "metadata": {
  "colab": {
   "authorship_tag": "ABX9TyO0qPXBdnUJAft7Vh2pQAu/",
   "provenance": []
  },
  "kernelspec": {
   "display_name": "Python 3",
   "name": "python3"
  },
  "language_info": {
   "name": "python"
  }
 },
 "nbformat": 4,
 "nbformat_minor": 0
}
