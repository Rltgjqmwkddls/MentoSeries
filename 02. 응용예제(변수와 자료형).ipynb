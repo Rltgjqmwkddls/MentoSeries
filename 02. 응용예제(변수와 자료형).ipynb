{
 "cells": [
  {
   "cell_type": "code",
   "execution_count": null,
   "metadata": {
    "id": "G6w-tKrlKsNi"
   },
   "outputs": [],
   "source": [
    "# 5자리로 구성된 학번'31025'를 학년, 반, 번호로 나누어 출력\n",
    "grade = 3 # 학번\n",
    "classs = 10 # 반\n",
    "number = 25 # 번호"
   ]
  },
  {
   "cell_type": "code",
   "execution_count": null,
   "metadata": {
    "colab": {
     "base_uri": "https://localhost:8080/"
    },
    "executionInfo": {
     "elapsed": 343,
     "status": "ok",
     "timestamp": 1732604752382,
     "user": {
      "displayName": "황수환",
      "userId": "06046355532150937721"
     },
     "user_tz": -540
    },
    "id": "1mxTOJn1Qu1U",
    "outputId": "1bdc607b-51b9-483a-99b0-db150aa6174c"
   },
   "outputs": [
    {
     "name": "stdout",
     "output_type": "stream",
     "text": [
      "3학년 10반 25번\n"
     ]
    }
   ],
   "source": [
    "print(f'{grade}학년 {classs}반 {number}번')"
   ]
  },
  {
   "cell_type": "code",
   "execution_count": null,
   "metadata": {
    "colab": {
     "base_uri": "https://localhost:8080/"
    },
    "executionInfo": {
     "elapsed": 367,
     "status": "ok",
     "timestamp": 1732608708735,
     "user": {
      "displayName": "황수환",
      "userId": "06046355532150937721"
     },
     "user_tz": -540
    },
    "id": "Xk-xKvszSmvQ",
    "outputId": "4aaf7fc9-5bfb-4181-e809-1b47225ad02b"
   },
   "outputs": [
    {
     "name": "stdout",
     "output_type": "stream",
     "text": [
      "서울2가1234의 차량번호 4자리는 1234입니다.\n",
      "10가1234의 차량번호 4자리는 1234입니다.\n",
      "288가1234의 차량번호 4자리는 1234입니다.\n"
     ]
    }
   ],
   "source": [
    "# 전체 차량 번호에서 뒤에 숫자 4자리만 출력(예, 서울4가1234)\n",
    "car_number1 = \"서울2가1234\"\n",
    "car_number2 = \"10가1234\"\n",
    "car_number3 = \"288가1234\"\n",
    "\n",
    "# 결과 출력\n",
    "# [-1]이 마지막 숫자이므로 -4부터 슬라이싱 마지막 4자리 숫자\n",
    "print(f\"{car_number1}의 차량번호 4자리는 {car_number1[-4:]}입니다.\")\n",
    "print(f\"{car_number2}의 차량번호 4자리는 {car_number2[-4:]}입니다.\")\n",
    "print(f\"{car_number3}의 차량번호 4자리는 {car_number3[-4:]}입니다.\")"
   ]
  },
  {
   "cell_type": "code",
   "execution_count": null,
   "metadata": {
    "colab": {
     "base_uri": "https://localhost:8080/"
    },
    "executionInfo": {
     "elapsed": 363,
     "status": "ok",
     "timestamp": 1732605795715,
     "user": {
      "displayName": "황수환",
      "userId": "06046355532150937721"
     },
     "user_tz": -540
    },
    "id": "9pWd9MhLS3W9",
    "outputId": "1fe7a0ec-2988-4564-cd37-0991ccc7d77d"
   },
   "outputs": [
    {
     "name": "stdout",
     "output_type": "stream",
     "text": [
      "서울4가1234의 차량번호 4자리는 1234입니다.\n",
      "10가1234의 차량번호 4자리는 1234입니다.\n",
      "288가1234의 차량번호 4자리는 1234입니다.\n"
     ]
    }
   ],
   "source": [
    "# 반복문을 이용해서 간단하게 구현\n",
    "carnum = ['서울4가1234', '10가1234', '288가1234']\n",
    "\n",
    "for carnum in carnum:\n",
    "  lastnum = carnum[-4:]\n",
    "  print(f'{carnum}의 차량번호 4자리는 {lastnum}입니다.')"
   ]
  },
  {
   "cell_type": "code",
   "execution_count": null,
   "metadata": {
    "colab": {
     "base_uri": "https://localhost:8080/"
    },
    "executionInfo": {
     "elapsed": 369,
     "status": "ok",
     "timestamp": 1732607285805,
     "user": {
      "displayName": "황수환",
      "userId": "06046355532150937721"
     },
     "user_tz": -540
    },
    "id": "K3Qaixn9W0lW",
    "outputId": "b6b340f4-a5ab-4c79-ae23-12f95f62e9c0"
   },
   "outputs": [
    {
     "name": "stdout",
     "output_type": "stream",
     "text": [
      "maple의 가운데 글자는 p입니다\n"
     ]
    }
   ],
   "source": [
    "# 문자열 s에 'maple'이 저장되어 있다. 문자열 s의 가운데 글자를 출력\n",
    "# 홀수글자만 해당\n",
    "s = 'maple'\n",
    "S = len(s) // 2\n",
    "print(f'{s}의 가운데 글자는 {s[S]}입니다') # s : maple, S : 2, s[S] : maple[2]"
   ]
  },
  {
   "cell_type": "code",
   "execution_count": null,
   "metadata": {
    "colab": {
     "base_uri": "https://localhost:8080/"
    },
    "executionInfo": {
     "elapsed": 399,
     "status": "ok",
     "timestamp": 1732607648120,
     "user": {
      "displayName": "황수환",
      "userId": "06046355532150937721"
     },
     "user_tz": -540
    },
    "id": "0-nbXj6CZ-Qh",
    "outputId": "8cd89980-7a25-4e33-d76f-6b0bba7a71bc"
   },
   "outputs": [
    {
     "name": "stdout",
     "output_type": "stream",
     "text": [
      "3번째 요소부터 7번째 요소 = [30, 40, 50, 60]\n",
      "3번째 요소부터 7번째 요소 중 2번째 요소 = 40\n"
     ]
    }
   ],
   "source": [
    "# 리스트[10, 20, 30, 40, 50, 60, 70, 80, 90, 100]의 3번째 요소부터 7번째 요소만 추출한 결과 리스트에서 2번째 요소를 출력\n",
    "li = [10, 20, 30, 40, 50, 60, 70, 80, 90, 100]\n",
    "LI = li[2:6] # 3번째에서 7번째 요소까지 슬라이싱\n",
    "\n",
    "print(f'3번째 요소부터 7번째 요소 = {LI}')\n",
    "print(f'3번째 요소부터 7번째 요소 중 2번째 요소 = {LI[1]}')"
   ]
  },
  {
   "cell_type": "code",
   "execution_count": null,
   "metadata": {
    "colab": {
     "base_uri": "https://localhost:8080/"
    },
    "executionInfo": {
     "elapsed": 747,
     "status": "ok",
     "timestamp": 1732608292394,
     "user": {
      "displayName": "황수환",
      "userId": "06046355532150937721"
     },
     "user_tz": -540
    },
    "id": "K6HmImpsdp3N",
    "outputId": "a3d43a29-e7d7-4161-e0fe-5f1415358b91"
   },
   "outputs": [
    {
     "name": "stdout",
     "output_type": "stream",
     "text": [
      "금요일: 탕수육\n",
      "토요일: 유산슬\n",
      "일요일: 팔보채\n"
     ]
    }
   ],
   "source": [
    "# 어떤 중국음식점의 이번 주말 할인 메뉴는 금요일은 탕수육, 토요일은 유산슬, 일요일은 팔보채다\n",
    "# 요일별 할인 메뉴를 딕셔너리 구조로 저장하고 다음과 같이 출력\n",
    "dic = {'금요일': '탕수육', '토요일': '유산슬', '일요일': '팔보채'}\n",
    "# 딕셔너리는 인덱스안에 키를 넣으면 밸류가 나오고 밸류를 넣으면 키가 나온다.\n",
    "print(f\"금요일: {dic['금요일']}\")\n",
    "print(f\"토요일: {dic['토요일']}\")\n",
    "print(f\"일요일: {dic['일요일']}\")"
   ]
  }
 ],
 "metadata": {
  "colab": {
   "authorship_tag": "ABX9TyN2WE3E14VJ+sp1IoQHgIxC",
   "provenance": []
  },
  "kernelspec": {
   "display_name": "Python 3",
   "name": "python3"
  },
  "language_info": {
   "name": "python"
  }
 },
 "nbformat": 4,
 "nbformat_minor": 0
}
