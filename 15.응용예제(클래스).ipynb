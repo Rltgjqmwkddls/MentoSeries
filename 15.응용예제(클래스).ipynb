{
 "cells": [
  {
   "cell_type": "code",
   "execution_count": null,
   "metadata": {
    "colab": {
     "base_uri": "https://localhost:8080/"
    },
    "executionInfo": {
     "elapsed": 507,
     "status": "ok",
     "timestamp": 1733384365676,
     "user": {
      "displayName": "황수환",
      "userId": "06046355532150937721"
     },
     "user_tz": -540
    },
    "id": "QiMi-pCulnl9",
    "outputId": "ecafa0b7-e913-40e9-bddd-13cc42562582"
   },
   "outputs": [
    {
     "name": "stdout",
     "output_type": "stream",
     "text": [
      "책 제목: 파이썬\n",
      "책 저자: 민경태\n",
      "책 제목: 어린왕자\n",
      "책 저자: 생텍쥐페리\n"
     ]
    }
   ],
   "source": [
    "# 다음 지시사항을 읽고 책 제목과 저자 정보를 저장할 수 있는 Book클래스를 생성\n",
    "# 책 제목과 책 저자 정보를 출력하는 print_info() 메소드를 구현\n",
    "# 다음과 같은 방법으로 book1과 book2 인스턴스를 생성\n",
    "# 생성된 인스턴스 book1과 book2를 리스트 book_list에 저장\n",
    "class Book():\n",
    "\n",
    "  def set_info(self, book1, book2):\n",
    "    self.book1 = book1\n",
    "    self.book2 = book2\n",
    "\n",
    "book_list = []\n",
    "\n",
    "# 인스턴스 생성\n",
    "book1 = Book()\n",
    "book2 = Book()\n",
    "book1.set_info('파이썬', '민경태')\n",
    "book2.set_info('어린왕자', '생텍쥐페리')\n",
    "\n",
    "book_list.append(book1)\n",
    "book_list.append(book2)\n",
    "\n",
    "print(f'책 제목: {book_list[0].book1}')\n",
    "print(f'책 저자: {book_list[0].book2}')\n",
    "print(f'책 제목: {book_list[1].book1}')\n",
    "print(f'책 저자: {book_list[1].book2}')"
   ]
  },
  {
   "cell_type": "code",
   "execution_count": 2,
   "metadata": {
    "colab": {
     "base_uri": "https://localhost:8080/"
    },
    "executionInfo": {
     "elapsed": 12667,
     "status": "ok",
     "timestamp": 1733734726318,
     "user": {
      "displayName": "황수환",
      "userId": "06046355532150937721"
     },
     "user_tz": -540
    },
    "id": "Fyz-PAwownM2",
    "outputId": "b14c095d-a190-4f09-a20f-83a1fd555beb"
   },
   "outputs": [
    {
     "name": "stdout",
     "output_type": "stream",
     "text": [
      "시간을 입력하세요 (HH:mm:ss): 12:00:00\n",
      "계산할 시간을 입력하세요: 3\n",
      "계산할 분을 입력하세요: 90\n",
      "계산할 초를 입력하세요: 3690\n",
      "계산된 시간은 17:31:30입니다.\n"
     ]
    }
   ],
   "source": [
    "class Watch:\n",
    "    hour = 0\n",
    "    minute = 0\n",
    "    second = 0\n",
    "\n",
    "    def set_time(self, hour, minute, second):\n",
    "        self.hour = hour\n",
    "        self.minute = minute\n",
    "        self.second = second\n",
    "\n",
    "    def add_hour(self, hours):\n",
    "        self.hour = (self.hour + hours) % 24\n",
    "\n",
    "    def add_minute(self, minutes):\n",
    "        total_minutes = self.minute + minutes\n",
    "        self.add_hour(total_minutes // 60)\n",
    "        self.minute = total_minutes % 60\n",
    "\n",
    "    def add_second(self, seconds):\n",
    "        total_seconds = self.second + seconds\n",
    "        self.add_minute(total_seconds // 60)\n",
    "        self.second = total_seconds % 60\n",
    "\n",
    "    def display_time(self):\n",
    "        return f\"{self.hour:02}:{self.minute:02}:{self.second:02}\"\n",
    "\n",
    "\n",
    "# 사용자 입력\n",
    "time_input = input(\"시간을 입력하세요 (HH:mm:ss): \")\n",
    "hour, minute, second = map(int, time_input.split(':'))\n",
    "\n",
    "# Watch 인스턴스 생성 및 시간 설정\n",
    "watch = Watch()\n",
    "watch.set_time(hour, minute, second)\n",
    "\n",
    "# 시간 추가\n",
    "add_hours = int(input(\"계산할 시간을 입력하세요: \"))\n",
    "watch.add_hour(add_hours)\n",
    "\n",
    "add_minutes = int(input(\"계산할 분을 입력하세요: \"))\n",
    "watch.add_minute(add_minutes)\n",
    "\n",
    "add_seconds = int(input(\"계산할 초를 입력하세요: \"))\n",
    "watch.add_second(add_seconds)\n",
    "\n",
    "# 결과 출력\n",
    "print(f\"계산된 시간은 {watch.display_time()}입니다.\")"
   ]
  },
  {
   "cell_type": "code",
   "execution_count": 10,
   "metadata": {
    "colab": {
     "base_uri": "https://localhost:8080/"
    },
    "executionInfo": {
     "elapsed": 370,
     "status": "ok",
     "timestamp": 1733735925347,
     "user": {
      "displayName": "황수환",
      "userId": "06046355532150937721"
     },
     "user_tz": -540
    },
    "id": "Kkwg4trh3uXl",
    "outputId": "0a3bdd19-b3e9-45f3-a032-42dd1df16dba"
   },
   "outputs": [
    {
     "name": "stdout",
     "output_type": "stream",
     "text": [
      "가수 이름: 김동률\n",
      "노래 제목: 취중진담(발라드)\n"
     ]
    }
   ],
   "source": [
    "# 노래제목과 장르 정보를 저장할 수 있는 Song 클래스\n",
    "# 가수 이름과 대표곡 정보를 저장할 수 있는 Singer 클래스\n",
    "# song과 singer 인스턴스를 생성하고 필요한 정보를 저장한 뒤 출력\n",
    "class Song():\n",
    "  def set_song(self, title, genre):\n",
    "    self.title = title\n",
    "    self.genre = genre\n",
    "\n",
    "  def print_song(self):\n",
    "    print(f'노래 제목: {self.title}({self.genre})')\n",
    "\n",
    "class Singer():\n",
    "  def set_singer(self, name):\n",
    "    self.name = name\n",
    "\n",
    "  def hit_song(self, song):\n",
    "    self.song = song\n",
    "\n",
    "  def print_singer(self):\n",
    "    print(f'가수 이름: {self.name}')\n",
    "    self.song.print_song()\n",
    "\n",
    "song = Song()\n",
    "song.set_song('취중진담', '발라드')\n",
    "\n",
    "singer = Singer()\n",
    "singer.set_singer('김동률')\n",
    "\n",
    "singer.hit_song(song)\n",
    "\n",
    "singer.print_singer()"
   ]
  }
 ],
 "metadata": {
  "colab": {
   "authorship_tag": "ABX9TyNEVMgs+uo5h/5P47seizZa",
   "provenance": []
  },
  "kernelspec": {
   "display_name": "Python 3",
   "name": "python3"
  },
  "language_info": {
   "name": "python"
  }
 },
 "nbformat": 4,
 "nbformat_minor": 0
}
