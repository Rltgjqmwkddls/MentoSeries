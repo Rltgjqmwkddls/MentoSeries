{
 "cells": [
  {
   "cell_type": "code",
   "execution_count": 2,
   "metadata": {
    "colab": {
     "base_uri": "https://localhost:8080/"
    },
    "executionInfo": {
     "elapsed": 7,
     "status": "ok",
     "timestamp": 1733737142592,
     "user": {
      "displayName": "황수환",
      "userId": "06046355532150937721"
     },
     "user_tz": -540
    },
    "id": "iK-sIGpUyOZm",
    "outputId": "32b931da-7038-4167-8225-b8c59b3b5d65"
   },
   "outputs": [
    {
     "name": "stdout",
     "output_type": "stream",
     "text": [
      "총 매출: 9500원\n"
     ]
    }
   ],
   "source": [
    "class Shop:\n",
    "    total = 0  # 전체 매출액\n",
    "    menu_list = [  # 메뉴와 가격\n",
    "        {\"떡볶이\": 1000},\n",
    "        {\"순대\": 3000},\n",
    "        {\"튀김\": 500},\n",
    "        {\"김밥\": 2000},\n",
    "    ]\n",
    "\n",
    "    @classmethod\n",
    "    def sales(cls, menu_name, quantity):\n",
    "        for menu in cls.menu_list:\n",
    "            if menu_name in menu:  # 메뉴 이름 찾기\n",
    "                cls.total += menu[menu_name] * quantity\n",
    "                return\n",
    "\n",
    "    @classmethod\n",
    "    def get_total_sales(cls):\n",
    "        return cls.total\n",
    "\n",
    "\n",
    "# 실행 예제\n",
    "Shop.sales(\"떡볶이\", 1)\n",
    "Shop.sales(\"순대\", 2)\n",
    "Shop.sales(\"튀김\", 5)\n",
    "print(\"총 매출: {}원\".format(Shop.get_total_sales()))"
   ]
  },
  {
   "cell_type": "code",
   "execution_count": 3,
   "metadata": {
    "colab": {
     "base_uri": "https://localhost:8080/"
    },
    "executionInfo": {
     "elapsed": 4,
     "status": "ok",
     "timestamp": 1733737142592,
     "user": {
      "displayName": "황수환",
      "userId": "06046355532150937721"
     },
     "user_tz": -540
    },
    "id": "wfexumYOyRYb",
    "outputId": "c70ca927-4bba-48e9-ed5d-606a48fff906"
   },
   "outputs": [
    {
     "name": "stdout",
     "output_type": "stream",
     "text": [
      "현재 주유상태: 50, 현재 충전상태: 30\n"
     ]
    }
   ],
   "source": [
    "# 상위 클래스 Car\n",
    "class Car:\n",
    "    max_oil = 50  # 최대 주유량\n",
    "\n",
    "    def __init__(self, oil):\n",
    "        self.oil = oil\n",
    "\n",
    "    def add_oil(self, oil):\n",
    "        if oil < 0:  # 음수는 무시\n",
    "            return\n",
    "        self.oil += oil\n",
    "        if self.oil > Car.max_oil:\n",
    "            self.oil = Car.max_oil\n",
    "\n",
    "    def car_info(self):\n",
    "        print(\"현재 주유상태: {}\".format(self.oil))\n",
    "\n",
    "\n",
    "# 하위 클래스 Hybrid\n",
    "class Hybrid(Car):\n",
    "    max_battery = 30  # 최대 배터리 충전량\n",
    "\n",
    "    def __init__(self, oil, battery):\n",
    "        super().__init__(oil)  # 부모 클래스 초기화\n",
    "        self.battery = battery\n",
    "\n",
    "    def charge(self, amount):\n",
    "        if amount < 0:\n",
    "            return\n",
    "        self.battery += amount\n",
    "        if self.battery > Hybrid.max_battery:\n",
    "            self.battery = Hybrid.max_battery\n",
    "\n",
    "    def hybrid_info(self):\n",
    "        print(\"현재 주유상태: {}, 현재 충전상태: {}\".format(self.oil, self.battery))\n",
    "\n",
    "\n",
    "# 실행 예제\n",
    "car = Hybrid(0, 0)\n",
    "car.add_oil(100)\n",
    "car.charge(50)\n",
    "car.hybrid_info()"
   ]
  }
 ],
 "metadata": {
  "colab": {
   "authorship_tag": "ABX9TyOMo4h9uGQJAmYfpx5k6Pd5",
   "provenance": []
  },
  "kernelspec": {
   "display_name": "Python 3",
   "name": "python3"
  },
  "language_info": {
   "codemirror_mode": {
    "name": "ipython",
    "version": 3
   },
   "file_extension": ".py",
   "mimetype": "text/x-python",
   "name": "python",
   "nbconvert_exporter": "python",
   "pygments_lexer": "ipython3",
   "version": "3.10.11"
  }
 },
 "nbformat": 4,
 "nbformat_minor": 0
}
