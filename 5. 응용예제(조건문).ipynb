{
 "cells": [
  {
   "cell_type": "code",
   "execution_count": null,
   "metadata": {
    "colab": {
     "base_uri": "https://localhost:8080/"
    },
    "executionInfo": {
     "elapsed": 4039,
     "status": "ok",
     "timestamp": 1733136665573,
     "user": {
      "displayName": "황수환",
      "userId": "06046355532150937721"
     },
     "user_tz": -540
    },
    "id": "OpWq-vWG0Cm0",
    "outputId": "8b765cd2-dba7-4263-96e1-7a4abfeffce5"
   },
   "outputs": [
    {
     "name": "stdout",
     "output_type": "stream",
     "text": [
      "점수를 입력하세요: 94\n",
      "해당 학생의 점수는94점입니다 학점은 A학점 입니다.\n"
     ]
    }
   ],
   "source": [
    "# 점수를 입력받아 학점을 출력\n",
    "# 점수가 100~90 A, 89~80 B, 79~70 C, 69~60 D, 59~0 F\n",
    "score = int(input('점수를 입력하세요: '))\n",
    "\n",
    "if score >= 90:\n",
    "  S = \"A\"\n",
    "elif score >= 80:\n",
    "  S = 'B'\n",
    "elif score >= 70:\n",
    "  S = 'C'\n",
    "elif score >= 60:\n",
    "  S = 'D'\n",
    "else:\n",
    "  S = 'F'\n",
    "\n",
    "print(f'해당 학생의 점수는{score}점입니다 학점은 {S}학점 입니다.')"
   ]
  },
  {
   "cell_type": "code",
   "execution_count": null,
   "metadata": {
    "colab": {
     "base_uri": "https://localhost:8080/"
    },
    "executionInfo": {
     "elapsed": 2549,
     "status": "ok",
     "timestamp": 1733136878604,
     "user": {
      "displayName": "황수환",
      "userId": "06046355532150937721"
     },
     "user_tz": -540
    },
    "id": "MdCkuvn59c2C",
    "outputId": "a28902e4-a233-4fbd-a7bd-49f4970b66ca"
   },
   "outputs": [
    {
     "name": "stdout",
     "output_type": "stream",
     "text": [
      "정수를 입력하세요: 15\n",
      "15는 3의 배수가 맞습니다.\n"
     ]
    }
   ],
   "source": [
    "# 임의의 정수를 입력받은 뒤 해당 값이 3의 배수인지 판별\n",
    "score = int(input('정수를 입력하세요: '))\n",
    "\n",
    "if score % 3 == 0:\n",
    "  print(f'{score}는 3의 배수가 맞습니다.')\n",
    "else:\n",
    "  print(f'{score}는 3의 배수가 아닙니다.')"
   ]
  },
  {
   "cell_type": "code",
   "execution_count": null,
   "metadata": {
    "colab": {
     "base_uri": "https://localhost:8080/"
    },
    "executionInfo": {
     "elapsed": 3512,
     "status": "ok",
     "timestamp": 1733137239667,
     "user": {
      "displayName": "황수환",
      "userId": "06046355532150937721"
     },
     "user_tz": -540
    },
    "id": "i5WpgtSdAd-2",
    "outputId": "c2e101ce-25d8-40a1-bbe2-fe4f5ad39e4f"
   },
   "outputs": [
    {
     "name": "stdout",
     "output_type": "stream",
     "text": [
      "정수1 입력: 1\n",
      "정수2 입력: 2\n",
      "정수3 입력: 3\n",
      "3개의 숫자 중 가장 큰 수는 3입니다.\n"
     ]
    }
   ],
   "source": [
    "# 임의의 정수 3개를 입력받아 그 중에서 가장 큰 수를 출력\n",
    "p = set()\n",
    "# add() : set, append() : list\n",
    "int1 = int(input('정수1 입력: '))\n",
    "p.add(int1)\n",
    "int2 = int(input('정수2 입력: '))\n",
    "p.add(int2)\n",
    "int3 = int(input('정수3 입력: '))\n",
    "p.add(int3)\n",
    "\n",
    "print(f'3개의 숫자 중 가장 큰 수는 {max(p)}입니다.')"
   ]
  },
  {
   "cell_type": "code",
   "execution_count": null,
   "metadata": {
    "colab": {
     "base_uri": "https://localhost:8080/"
    },
    "executionInfo": {
     "elapsed": 3396,
     "status": "ok",
     "timestamp": 1733137787794,
     "user": {
      "displayName": "황수환",
      "userId": "06046355532150937721"
     },
     "user_tz": -540
    },
    "id": "eVVhexfFBVM6",
    "outputId": "fed40c20-849a-488d-85e3-ef31961b721c"
   },
   "outputs": [
    {
     "name": "stdout",
     "output_type": "stream",
     "text": [
      "정수1 입력: 1\n",
      "정수2 입력: 2\n",
      "정수3 입력: 3\n",
      "3개의 숫자 중 가장 큰 수는 3입니다.\n"
     ]
    }
   ],
   "source": [
    "int1 = int(input('정수1 입력: '))\n",
    "int2 = int(input('정수2 입력: '))\n",
    "int3 = int(input('정수3 입력: '))\n",
    "# 2개 이상의 조건일 때 사용\n",
    "if int1 >= int2 and int1 >= int3:\n",
    "  max = int1\n",
    "elif int2 >= int1 and int2 >= int3:\n",
    "  max = int2\n",
    "else:\n",
    "  max = int3\n",
    "\n",
    "print(f'3개의 숫자 중 가장 큰 수는 {max}입니다.')"
   ]
  },
  {
   "cell_type": "code",
   "execution_count": null,
   "metadata": {
    "colab": {
     "base_uri": "https://localhost:8080/"
    },
    "executionInfo": {
     "elapsed": 4147,
     "status": "ok",
     "timestamp": 1733138852657,
     "user": {
      "displayName": "황수환",
      "userId": "06046355532150937721"
     },
     "user_tz": -540
    },
    "id": "fHu-ruzLD9vN",
    "outputId": "642f54a9-0473-48b6-feff-2d2f0e9f4882"
   },
   "outputs": [
    {
     "name": "stdout",
     "output_type": "stream",
     "text": [
      "운행가능\n"
     ]
    }
   ],
   "source": [
    "# 사용자로부터 차량번호를 입력받아 차량번호가 짝수로 끝나면 '운행가능', 아니면 '운행불가'를 출력\n",
    "car_num = input('차량번호를 입력하세요: ')\n",
    "\n",
    "# if int(car_num[-1]) % 2 == 0:\n",
    "#   drive = '운행가능'\n",
    "# else:\n",
    "#   drive = '운행불가'\n",
    "\n",
    "# print(f'차량번호{car_num}은 오늘 {drive}입니다.')\n",
    "\n",
    "print('운행가능' if int(car_num[-1]) % 2 == 0 else '운행불가')"
   ]
  }
 ],
 "metadata": {
  "colab": {
   "authorship_tag": "ABX9TyOdQHrSKVJp8nz9K9E1WA46",
   "provenance": []
  },
  "kernelspec": {
   "display_name": "Python 3",
   "name": "python3"
  },
  "language_info": {
   "codemirror_mode": {
    "name": "ipython",
    "version": 3
   },
   "file_extension": ".py",
   "mimetype": "text/x-python",
   "name": "python",
   "nbconvert_exporter": "python",
   "pygments_lexer": "ipython3",
   "version": "3.10.11"
  }
 },
 "nbformat": 4,
 "nbformat_minor": 0
}
